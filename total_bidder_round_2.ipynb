{
  "metadata": {
    "kernelspec": {
      "name": "python",
      "display_name": "Python (Pyodide)",
      "language": "python"
    },
    "language_info": {
      "codemirror_mode": {
        "name": "python",
        "version": 3
      },
      "file_extension": ".py",
      "mimetype": "text/x-python",
      "name": "python",
      "nbconvert_exporter": "python",
      "pygments_lexer": "ipython3",
      "version": "3.8"
    }
  },
  "nbformat_minor": 5,
  "nbformat": 4,
  "cells": [
    {
      "id": "805fc639-1958-4c29-a33e-7b8e393b2003",
      "cell_type": "code",
      "source": "'''The above data is data for prebid auctions. There are bidders who receive requests for placing ads, \nthey respond to these requests with a bid\nand the highest bid wins the auction.\nAnalyze the dataset to answer which bidder has the highest win rate (wins / total_bid)\n'''\n\nimport pandas as pd\n\ndf = pd.read_csv('analysis_id(in).csv')\n\ndf.head()\n\nprint(f\"Missing values in 'prebid_win_count' column:{df['prebid_win_count'].isnull().sum()}\")\ndf['prebid_win_count']=df['prebid_win_count'].fillna(0)\n\ndf.head()\n\ndf['prebid_win_rate'] = df.apply(lambda row:row['prebid_win_count']/row['response_count']*100\n                                 if row ['response_count'] != 0 \n                                     else 0, axis=1)\n\ngrouped = df.groupby('bidder').agg(total_wins=('prebid_win_count','sum'),total_bids=('response_count','sum'),prebid_win_rate=('prebid_win_rate','mean')\n                                )\n\nhighest_win_rate_bidder = grouped['prebid_win_rate'].idxmax()\nhighest_win_rate_bidder = grouped.loc[highest_win_rate_bidder,'prebid_win_rate']\n\nprint(\"Grouped Data (Total Wins, total bids, win rate bidder):\")\nprint(grouped)\n\ngrouped_sorted = grouped.sort_values(by='prebid_win_rate',ascending=False)\n\nprint(grouped_sorted)\ntop_two_bidders = grouped_sorted.head(2)\nprint(top_two_bidders)\n\n\nprint(f\"\\nbidder with the highest win rate : {highest_win_rate_bidder}\")\n\n",
      "metadata": {
        "trusted": true
      },
      "outputs": [
        {
          "name": "stdout",
          "output_type": "stream",
          "text": "Missing values in 'prebid_win_count' column:3833\nGrouped Data (Total Wins, total bids, win rate bidder):\n              total_wins  total_bids  prebid_win_rate\nbidder                                               \n                     0.0           0         0.000000\n33across           136.0         886        21.588126\nappnexus           175.0         830        26.405924\ncriteo             587.0        3181        18.664552\nemx_digital         56.0         393        15.444020\nix                 184.0        3051        13.638469\nmedianet           253.0        2556        18.751987\nonemobile          759.0        2726        31.837538\nopenx               86.0        1165        12.659042\npubmatic           255.0        2335        16.043950\npulsepoint          71.0         191        40.161692\nrhythmone          160.0         655        25.076766\nrubicon             33.0         582        10.549589\nsharethrough       104.0         332        35.970439\nsovrn               14.0         358         6.535948\nteads              323.0         700        40.011586\ntriplelift         108.0        1479        14.483983\nundertone           52.0         104        48.497795\n              total_wins  total_bids  prebid_win_rate\nbidder                                               \nundertone           52.0         104        48.497795\npulsepoint          71.0         191        40.161692\nteads              323.0         700        40.011586\nsharethrough       104.0         332        35.970439\nonemobile          759.0        2726        31.837538\nappnexus           175.0         830        26.405924\nrhythmone          160.0         655        25.076766\n33across           136.0         886        21.588126\nmedianet           253.0        2556        18.751987\ncriteo             587.0        3181        18.664552\npubmatic           255.0        2335        16.043950\nemx_digital         56.0         393        15.444020\ntriplelift         108.0        1479        14.483983\nix                 184.0        3051        13.638469\nopenx               86.0        1165        12.659042\nrubicon             33.0         582        10.549589\nsovrn               14.0         358         6.535948\n                     0.0           0         0.000000\n            total_wins  total_bids  prebid_win_rate\nbidder                                             \nundertone         52.0         104        48.497795\npulsepoint        71.0         191        40.161692\n\nbidder with the highest win rate : 48.497794722284524\n"
        }
      ],
      "execution_count": 44
    },
    {
      "id": "03efbbb8-7af8-4a2d-a1b1-28171d731df6",
      "cell_type": "code",
      "source": "",
      "metadata": {
        "trusted": true
      },
      "outputs": [],
      "execution_count": null
    },
    {
      "id": "1ad860f4-f245-4a25-abe4-546904949c2c",
      "cell_type": "code",
      "source": "",
      "metadata": {
        "trusted": true
      },
      "outputs": [],
      "execution_count": null
    }
  ]
}